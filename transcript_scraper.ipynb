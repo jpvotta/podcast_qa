{
 "cells": [
  {
   "cell_type": "markdown",
   "metadata": {},
   "source": [
    "# Scraping \"Invest Like The Best\" Transcripts\n",
    "\n",
    "This script downloads the text transcripts of the podcast \"Invest Like The Best\" from the Colossus website: https://www.joincolossus.com/episodes\n",
    "\n",
    "Note: the exercise contained in this repo is for exploratory purposes only. ALL CREDIT for the production of this great podcast goes to the team at https://www.joincolossus.com/."
   ]
  },
  {
   "cell_type": "markdown",
   "metadata": {},
   "source": [
    "As a first step, I visited the podcast page from Apple Podcasts: https://podcasts.apple.com/us/podcast/invest-like-the-best-with-patrick-oshaughnessy/id1154105909 and saved the webpage HTML (the url links to each podcast page are visible in the HTML). The HTML page is included in the repo (`apple_podcasts_html.html`)\n",
    "\n",
    "For the purposes of this script, the path to the HTML page is `C:\\code\\podcasts\\apple_podcasts_html.html`\n",
    "\n",
    "I used BeautifulSoup to pull the urls from the original HTML page. To get the url of each episode's transcript, I needed to use Selenium to search by the xpath, perform a click action, and note the current url after the click action.\n",
    "\n",
    "Then, for each episode link, we navigate to the page, copy (using ctrl + a and ctrl + c keystrokes through Selenium), and save the contents in a file called transcript_[n].\n",
    "\n"
   ]
  },
  {
   "cell_type": "code",
   "execution_count": 1,
   "metadata": {},
   "outputs": [
    {
     "name": "stdout",
     "output_type": "stream",
     "text": [
      "Requirement already satisfied: beautifulsoup4 in .\\env\\lib\\site-packages (4.11.1)\n",
      "Requirement already satisfied: soupsieve>1.2 in .\\env\\lib\\site-packages (from beautifulsoup4) (2.3.2.post1)\n",
      "Note: you may need to restart the kernel to use updated packages.\n",
      "Requirement already satisfied: selenium in .\\env\\lib\\site-packages (4.4.3)\n",
      "Requirement already satisfied: urllib3[socks]~=1.26 in .\\env\\lib\\site-packages (from selenium) (1.26.12)\n",
      "Requirement already satisfied: certifi>=2021.10.8 in .\\env\\lib\\site-packages (from selenium) (2022.9.14)\n",
      "Requirement already satisfied: trio~=0.17 in .\\env\\lib\\site-packages (from selenium) (0.21.0)\n",
      "Requirement already satisfied: trio-websocket~=0.9 in .\\env\\lib\\site-packages (from selenium) (0.9.2)\n",
      "Requirement already satisfied: attrs>=19.2.0 in .\\env\\lib\\site-packages (from trio~=0.17->selenium) (22.1.0)\n",
      "Requirement already satisfied: async-generator>=1.9 in .\\env\\lib\\site-packages (from trio~=0.17->selenium) (1.10)\n",
      "Requirement already satisfied: idna in .\\env\\lib\\site-packages (from trio~=0.17->selenium) (3.4)\n",
      "Requirement already satisfied: sniffio in .\\env\\lib\\site-packages (from trio~=0.17->selenium) (1.3.0)\n",
      "Requirement already satisfied: outcome in .\\env\\lib\\site-packages (from trio~=0.17->selenium) (1.2.0)\n",
      "Requirement already satisfied: cffi>=1.14 in .\\env\\lib\\site-packages (from trio~=0.17->selenium) (1.15.1)\n",
      "Requirement already satisfied: sortedcontainers in .\\env\\lib\\site-packages (from trio~=0.17->selenium) (2.4.0)\n",
      "Requirement already satisfied: wsproto>=0.14 in .\\env\\lib\\site-packages (from trio-websocket~=0.9->selenium) (1.2.0)\n",
      "Requirement already satisfied: PySocks!=1.5.7,<2.0,>=1.5.6 in .\\env\\lib\\site-packages (from urllib3[socks]~=1.26->selenium) (1.7.1)\n",
      "Requirement already satisfied: pycparser in .\\env\\lib\\site-packages (from cffi>=1.14->trio~=0.17->selenium) (2.21)\n",
      "Requirement already satisfied: h11<1,>=0.9.0 in .\\env\\lib\\site-packages (from wsproto>=0.14->trio-websocket~=0.9->selenium) (0.13.0)\n",
      "Note: you may need to restart the kernel to use updated packages.\n",
      "Requirement already satisfied: pandas in .\\env\\lib\\site-packages (1.4.4)\n",
      "Requirement already satisfied: numpy>=1.21.0 in .\\env\\lib\\site-packages (from pandas) (1.23.3)\n",
      "Requirement already satisfied: python-dateutil>=2.8.1 in .\\env\\lib\\site-packages (from pandas) (2.8.2)\n",
      "Requirement already satisfied: pytz>=2020.1 in .\\env\\lib\\site-packages (from pandas) (2022.2.1)\n",
      "Requirement already satisfied: six>=1.5 in .\\env\\lib\\site-packages (from python-dateutil>=2.8.1->pandas) (1.16.0)\n",
      "Note: you may need to restart the kernel to use updated packages.\n",
      "Requirement already satisfied: requests in .\\env\\lib\\site-packages (2.28.1)\n",
      "Requirement already satisfied: charset-normalizer<3,>=2 in .\\env\\lib\\site-packages (from requests) (2.1.1)\n",
      "Requirement already satisfied: idna<4,>=2.5 in .\\env\\lib\\site-packages (from requests) (3.4)\n",
      "Requirement already satisfied: certifi>=2017.4.17 in .\\env\\lib\\site-packages (from requests) (2022.9.14)\n",
      "Requirement already satisfied: urllib3<1.27,>=1.21.1 in .\\env\\lib\\site-packages (from requests) (1.26.12)\n",
      "Note: you may need to restart the kernel to use updated packages.\n"
     ]
    }
   ],
   "source": [
    "# installs\n",
    "%pip install beautifulsoup4\n",
    "%pip install selenium\n",
    "%pip install pandas\n",
    "%pip install requests"
   ]
  },
  {
   "cell_type": "markdown",
   "metadata": {},
   "source": [
    "## Selenium Setup\n",
    "\n",
    "I am using Chrome Version 105.0.5195.127 (Official Build) (64-bit). I downloaded the current release of Chrome driver from https://chromedriver.chromium.org/downloads (specifically https://chromedriver.storage.googleapis.com/index.html?path=105.0.5195.52/). \n",
    "\n",
    "I saved the file at `C:\\code\\podcasts\\chromedriver.exe` (also included in repo)."
   ]
  },
  {
   "cell_type": "code",
   "execution_count": 6,
   "metadata": {},
   "outputs": [
    {
     "name": "stderr",
     "output_type": "stream",
     "text": [
      "C:\\Users\\jpvot\\AppData\\Local\\Temp\\ipykernel_11924\\1598177080.py:6: DeprecationWarning: executable_path has been deprecated, please pass in a Service object\n",
      "  driver = webdriver.Chrome('c:/code/podcasts/chromedriver.exe')\n"
     ]
    }
   ],
   "source": [
    "from selenium import webdriver\n",
    "from selenium.webdriver.common.keys import Keys \n",
    "from selenium.webdriver.common.action_chains import ActionChains\n",
    "\n",
    "# point Selenium to chrome driver\n",
    "driver = webdriver.Chrome('c:/code/podcasts/chromedriver.exe')\n",
    "\n",
    "# test the driver\n",
    "driver.get('https://podcasts.apple.com/us/podcast/invest-like-the-best-with-patrick-oshaughnessy/id1154105909')"
   ]
  },
  {
   "cell_type": "markdown",
   "metadata": {},
   "source": [
    "We need to ensure that we are logged into the Colossus website. To make an account, visit `https://www.joincolossus.com/register`\n",
    "\n",
    "The below code should open a new Chrome window and take us to an episode transcript."
   ]
  },
  {
   "cell_type": "code",
   "execution_count": 8,
   "metadata": {},
   "outputs": [],
   "source": [
    "# test that we can view a transcript\n",
    "driver.get('https://www.joincolossus.com/episodes/87713997/f-investing-in-enterprise-software?tab=transcript')"
   ]
  },
  {
   "cell_type": "markdown",
   "metadata": {},
   "source": [
    "Below is the main code block. \n",
    "\n",
    "For each link in the Apple podcasts page:\n",
    "- perform a click action on the xpath for the \"Episode Webpage section\" (which takes us to the Colossus transcript page for that episode)\n",
    "- simply ctrl+a, ctrl_c to copy the text on the page\n",
    "- save clipboard data in a file called transcript_[n]\n",
    "    \n"
   ]
  },
  {
   "cell_type": "code",
   "execution_count": 9,
   "metadata": {},
   "outputs": [],
   "source": [
    "from bs4 import BeautifulSoup\n",
    "import urllib.request\n",
    "import re\n",
    "\n",
    "# open the HTML page we saved manually from Apple Podcasts and parse with BeautifulSoup\n",
    "with open('C:/code/podcasts/apple_podcasts_html.html', encoding='utf8') as fp:\n",
    "    outer_soup = BeautifulSoup(fp, 'html.parser')\n",
    "\n",
    "# For each podcast link (one that starts with https://podcasts.apple.com/us/podcast/), pull the transcript using Selenium\n",
    "counter = 1\n",
    "for apple_link_html in outer_soup.findAll('a', attrs={'href': re.compile('^https://podcasts.apple.com/us/podcast/')}):\n",
    "    apple_link = apple_link_html.get('href')\n",
    "\n",
    "    # navigate to the podcast's transcript page\n",
    "\n",
    "    driver.get(apple_link)\n",
    "    driver.implicitly_wait(5)\n",
    "\n",
    "    # perform a click action on the xpath for the \"Episode Webpage section\"\n",
    "    if driver.find_elements('xpath', '/html/body/div[5]/main/div[2]/div/div/section/div[1]/div[2]/div/div[2]/header/div/ul[1]/li[1]/a'):\n",
    "        driver.find_element('xpath', '/html/body/div[5]/main/div[2]/div/div/section/div[1]/div[2]/div/div[2]/header/div/ul[1]/li[1]/a').click()\n",
    "\n",
    "        # note: information on how to get the xpath of an element: https://stackoverflow.com/a/42194160\n",
    "\n",
    "        # print('inner url:')\n",
    "        # print(driver.current_url)\n",
    "\n",
    "        # simply ctrl+a, ctrl_c to copy the text\n",
    "        element = driver.find_element('tag name', 'body')\n",
    "\n",
    "        # ctrl + a\n",
    "        actions_select_all = ActionChains(driver)\n",
    "        actions_select_all.key_down(Keys.CONTROL)\n",
    "        actions_select_all.send_keys(\"a\")\n",
    "        actions_select_all.key_up(Keys.CONTROL)\n",
    "        actions_select_all.perform()\n",
    "\n",
    "        # ctrl + c\n",
    "        actions_copy = ActionChains(driver)\n",
    "        actions_copy.key_down(Keys.CONTROL)\n",
    "        actions_copy.send_keys(\"c\")\n",
    "        actions_copy.key_up(Keys.CONTROL)\n",
    "        actions_copy.perform()\n",
    "\n",
    "        # save clipboard data\n",
    "        import win32clipboard\n",
    "        win32clipboard.OpenClipboard()\n",
    "        transcript = win32clipboard.GetClipboardData()\n",
    "        win32clipboard.CloseClipboard()\n",
    "        # print(data)\n",
    "\n",
    "        file_name = 'transcript_{}'.format(counter)\n",
    "        text_file = open(file_name, 'w')\n",
    "        text_file.write(transcript)\n",
    "        text_file.close()\n",
    "\n",
    "        counter = counter + 1"
   ]
  }
 ],
 "metadata": {
  "kernelspec": {
   "display_name": "Python 3.10.7 ('env')",
   "language": "python",
   "name": "python3"
  },
  "language_info": {
   "codemirror_mode": {
    "name": "ipython",
    "version": 3
   },
   "file_extension": ".py",
   "mimetype": "text/x-python",
   "name": "python",
   "nbconvert_exporter": "python",
   "pygments_lexer": "ipython3",
   "version": "3.10.7"
  },
  "orig_nbformat": 4,
  "vscode": {
   "interpreter": {
    "hash": "0879c91d05bdbbd22a80c643c00cc9a8f17eac70366bc0d4907821b249e2eb50"
   }
  }
 },
 "nbformat": 4,
 "nbformat_minor": 2
}
